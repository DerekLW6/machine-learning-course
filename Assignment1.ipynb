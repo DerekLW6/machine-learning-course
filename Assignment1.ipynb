{
 "cells": [
  {
   "cell_type": "markdown",
   "metadata": {},
   "source": [
    "# Assignment 1 - Probability, Linear Algebra, Programming, and Git\n",
    "\n",
    "## *Joseph Littell*\n",
    "Netid:  *JPL51*"
   ]
  },
  {
   "cell_type": "markdown",
   "metadata": {},
   "source": [
    "# Probability and Statistics Theory"
   ]
  },
  {
   "cell_type": "markdown",
   "metadata": {
    "collapsed": true
   },
   "source": [
    "## 1\n",
    "Let $f(x) = \\begin{cases}\n",
    "                0           & x < 0  \\\\\n",
    "                \\alpha x^2  & 0 \\leq x \\leq 2 \\\\\n",
    "                0           & 2 < x\n",
    "            \\end{cases}$\n",
    "            \n",
    "For what value of $\\alpha$ is $f(x)$ a valid probability density function?\n",
    "\n",
    "*Note: for all assignments, write out all equations and math for all assignments using markdown and [LaTeX](https://tobi.oetiker.ch/lshort/lshort.pdf) and show all work*"
   ]
  },
  {
   "cell_type": "markdown",
   "metadata": {},
   "source": [
    "**ANSWER**\n",
    "\n",
    "For $f(x)$ to be a valid probability density function, the value of $f(x)$ must equal 1\n",
    "\n",
    "When we solve for $\\alpha$ using the above,\n",
    "\n",
    "$\\int_{0}^{2} f(x) dx$ = 1\n",
    "\n",
    "$\\int_{0}^{2} \\alpha x^2 dx$ = 1\n",
    "\n",
    "$x^2 \\int_{0}^{2} \\alpha dx$ = 1\n",
    "\n",
    "$\\alpha$ = $\\frac{3}{8}$"
   ]
  },
  {
   "cell_type": "markdown",
   "metadata": {},
   "source": [
    "## 2\n",
    "What is the cumulative distribution function (CDF) that corresponds to the following probability distribution function? Please state the value of the CDF for all possible values of $x$.\n",
    "\n",
    "$f(x) = \\begin{cases}\n",
    "    \\frac{1}{3} & 0 < x < 3 \\\\\n",
    "    0           & \\text{otherwise}\n",
    "    \\end{cases}$"
   ]
  },
  {
   "cell_type": "markdown",
   "metadata": {},
   "source": [
    "**ANSWER**\n",
    "\n",
    "$f(x) = \\begin{cases}\n",
    "\\frac{1}{3}*x & 0 < x < 3 \\\\\n",
    "0 & x < 0 \\\\\n",
    "1 & x > 3\n",
    "\\end{cases}$\n"
   ]
  },
  {
   "cell_type": "markdown",
   "metadata": {},
   "source": [
    "## 3\n",
    "For the probability distribution function for the random variable $X$,\n",
    "\n",
    "$f(x) = \\begin{cases}\n",
    "    \\frac{1}{3} & 0 < x < 3 \\\\\n",
    "    0           & \\text{otherwise}\n",
    "    \\end{cases}$\n",
    "    \n",
    "what is the (a) expected value and (b) variance of $X$. *Show all work*."
   ]
  },
  {
   "cell_type": "code",
   "execution_count": null,
   "metadata": {},
   "outputs": [],
   "source": [
    "**ANSWER**\n",
    "\n",
    "(a) Expected value:\n",
    "\n",
    "$\\int_{0}^{3} xf(x) dx = \\int_{0}^{3} \\frac{1}{3} x dx = \\frac{1}{6}x^2 = \\frac{9}{6}$\n",
    "\n",
    "(b) Variance:\n",
    "\n",
    "$\\sigma^2$ = $E[X-\\mu]^2$\n",
    "\n",
    "$\\sigma^2$ = $E[X^2]$ - $\\mu^2$\n",
    "\n",
    "$\\mu^2$ = $\\frac{9}{6}^2$ = $\\frac{9}{4}$\n",
    "\n",
    "$E[X^2]$ = $\\int_{0}^{3} \\frac{1}{3}x^2 dx$ = 3\n",
    "\n",
    "$\\sigma^2$ = 3-$\\frac{9}{4}$\n",
    "\n",
    "$\\sigma^2$ = $\\frac{3}{4}$"
   ]
  },
  {
   "cell_type": "markdown",
   "metadata": {},
   "source": [
    "## 4\n",
    "Consider the following table of data that provides the values of a discrete data vector $\\mathbf{x}$ of samples from the random variable $X$, where each entry in $\\mathbf{x}$ is given as $x_i$.\n",
    "\n",
    "*Table 1. Dataset N=5 observations*\n",
    "\n",
    "|        | $x_0$ | $x_1$ | $x_2$ | $x_3$ | $x_4$ |\n",
    "|------  |-------|-------|-------|-------|-------|\n",
    "|$\\textbf{x}$| 2     | 3     | 10    | -1    | -1    |\n",
    "\n",
    "What is the (a) mean, (b) variance, and the  of the data? \n",
    "\n",
    "*Show all work. Your answer should include the definition of mean, median, and variance in the context of discrete data.*"
   ]
  },
  {
   "cell_type": "code",
   "execution_count": 63,
   "metadata": {},
   "outputs": [
    {
     "name": "stdout",
     "output_type": "stream",
     "text": [
      "The mean is: 2.6 \n",
      "\n",
      "and the variance is: 16.240 \n"
     ]
    }
   ],
   "source": [
    "# ANSWER\n",
    "\n",
    "import numpy as np\n",
    "\n",
    "# (a) Mean\n",
    "\n",
    "a = [2, 3, 10, -1, -1]\n",
    "\n",
    "myMean = np.mean(a)\n",
    "\n",
    "# (b) Variance\n",
    "\n",
    "myVar = np.var(a)\n",
    "\n",
    "print('The mean is: {} \\n\\nand the variance is: {:.3f} '.format(myMean, myVar))\n"
   ]
  },
  {
   "cell_type": "markdown",
   "metadata": {},
   "source": [
    "## 5\n",
    "Review of counting from probability theory. \n",
    "\n",
    "(a) How many different 7-place license plates are possible if the first 3 places only contain letters and the last 4 only contain numbers?\n",
    "\n",
    "(b) How many different batting orders are possible for a baseball team with 9 players?\n",
    "\n",
    "(c) How many batting orders of 5 players are possible for a team with 9 players total?\n",
    "\n",
    "(d) Let's assume this class has 26 students and we want to form project teams. How many unique teams of 3 are possible?\n",
    "\n",
    "*Hint: For each problem, determine if order matters, and if it should be calculated with or without replacement.*"
   ]
  },
  {
   "cell_type": "markdown",
   "metadata": {},
   "source": [
    "**ANSWER**\n",
    "\n",
    "(a) For a 7 Place license plate with 3 letters and 4 numbers there are $26^3 * 10^4$ combinations which is 17,576,000, if we assume that numbers are letters can be used more than once. \n",
    "\n",
    "(b) For 9 players there batting order is going to be 9! or 362,880.\n",
    "\n",
    "(c) Since there are only 5 players of the 9 for a batting order we must do nCk for 9 choose 5. $\\frac{9!}{5!(9-5)!}$ or 15,120 unique orders.\n",
    "\n",
    "(d) Similar to the question above, there are 26 students and they can be placed in teams of there so 26 choose 3. $\\frac{26!}{3!(26-3)!}$ or 2,600 different teams.\n",
    "\n"
   ]
  },
  {
   "cell_type": "markdown",
   "metadata": {},
   "source": [
    "# Linear Algebra"
   ]
  },
  {
   "cell_type": "markdown",
   "metadata": {},
   "source": [
    "## 6\n",
    "**Matrix manipulations and multiplication**. Machine learning involves working with many matrices, so this exercise will provide you with the opportunity to practice those skills.\n",
    "\n",
    "Let\n",
    "$\\mathbf{A} =  \\begin{bmatrix}\n",
    "1 & 2 & 3 \\\\\n",
    "2 & 4 & 5 \\\\\n",
    "3 & 5 & 6 \n",
    "\\end{bmatrix}$, $\\mathbf{b} =  \\begin{bmatrix}\n",
    "-1  \\\\\n",
    "3  \\\\\n",
    "8  \n",
    "\\end{bmatrix}$, $\\mathbf{c} =  \\begin{bmatrix}\n",
    "4  \\\\\n",
    "-3  \\\\\n",
    "6  \n",
    "\\end{bmatrix}$, and $\\mathbf{I} =  \\begin{bmatrix}\n",
    "1 & 0 & 0 \\\\\n",
    "0 & 1 & 0 \\\\\n",
    "0 & 0 & 1 \n",
    "\\end{bmatrix}$\n",
    "\n",
    "Compute the following or indicate that it cannot be computed:\n",
    "\n",
    "1. $\\mathbf{A}\\mathbf{A}$\n",
    "2. $\\mathbf{A}\\mathbf{A}^T$\n",
    "3. $\\mathbf{A}\\mathbf{b}$\n",
    "4. $\\mathbf{A}\\mathbf{b}^T$\n",
    "5. $\\mathbf{b}\\mathbf{A}$\n",
    "6. $\\mathbf{b}^T\\mathbf{A}$\n",
    "7. $\\mathbf{b}\\mathbf{b}$\n",
    "8. $\\mathbf{b}^T\\mathbf{b}$\n",
    "9. $\\mathbf{b}\\mathbf{b}^T$\n",
    "10. $\\mathbf{b} + \\mathbf{c}^T$\n",
    "11. $\\mathbf{b}^T\\mathbf{b}^T$\n",
    "12. $\\mathbf{A}^{-1}\\mathbf{b}$\n",
    "13. $\\mathbf{A}\\circ\\mathbf{A}$\n",
    "14. $\\mathbf{b}\\circ\\mathbf{c}$\n",
    "\n",
    "*Note: The element-wise (or Hadamard) product is the product of each element in one matrix with the corresponding element in another matrix, and is represented by the symbol \"$\\circ$\".*"
   ]
  },
  {
   "cell_type": "code",
   "execution_count": 2,
   "metadata": {},
   "outputs": [
    {
     "name": "stdout",
     "output_type": "stream",
     "text": [
      "The answers to Question 6 are as follows:\n",
      "\n",
      "Part 1. The answer to \"AA\" is: \n",
      "[[14 22 31]\n",
      " [25 40 56]\n",
      " [29 46 65]]\n",
      "\n",
      "Part 2. The answer to \"AAT\" is: \n",
      "[[14 25 29]\n",
      " [25 45 52]\n",
      " [29 52 61]]\n",
      "\n",
      "Part 3. The answer to \"Ab\" is: \n",
      "[[29]\n",
      " [50]\n",
      " [57]]\n",
      "\n",
      "Part 3. There is no answer to \"AbT\" because the matrix and vector cannot be multiplied due to their dimensions\n",
      "\n",
      "Part 5. There is no answer to \"bA\" because the matrix and vector cannot be multiplied due to their dimensions\n",
      "\n",
      "Part 6. The answer to \"bTA\" is: \n",
      "[[29 42 60]]\n",
      "\n",
      "Part 7. There is no answer to \"bb\" because the vectors cannot be multiplied due to their dimensions\n",
      "\n",
      "Part 8. The answer to \"bTb\" is: \n",
      "[[74]]\n",
      "\n",
      "Part 9. The answer to \"bbT\" is: \n",
      "[[ 1 -3 -8]\n",
      " [-3  9 24]\n",
      " [-8 24 64]]\n",
      "\n",
      "Part 10. There is no answer to \"b+cT\" because the vectors cannot be added due to their dimensions\n",
      "\n",
      "Part 11. There is no answer to \"bTbT\" because the vectors cannot be multiplied due to their dimensions\n",
      "\n",
      "Part 12. The answer to \"A−1b\" is: \n",
      "[[10.]\n",
      " [ 2.]\n",
      " [-5.]]\n",
      "\n",
      "Part 13. The answer to \"A.A\" is: \n",
      "[[14 22 31]\n",
      " [25 40 56]\n",
      " [29 46 65]]\n",
      "\n",
      "Part 14. There is no answer to \"b.c\" because the vectors do not have a dot product due to their dimensions\n"
     ]
    }
   ],
   "source": [
    "print('The answers to Question 6 are as follows:')\n",
    "print('')\n",
    "\n",
    "A = np.array([[1, 2, 3],\n",
    "              [2, 4, 5], \n",
    "              [3, 4, 6]])\n",
    "\n",
    "b = np.array([[-1],\n",
    "              [3],\n",
    "              [8]])\n",
    "\n",
    "c = np.array([[4],\n",
    "              [-3],\n",
    "              [6]])\n",
    "\n",
    "I = np.array([[1, 0, 0],\n",
    "              [0, 1, 0],\n",
    "              [0, 0, 1]])\n",
    "\n",
    "# AA \n",
    "\n",
    "print('Part 1. The answer to \"AA\" is: \\n{}'.format(np.matmul(A, A)))\n",
    "print('')\n",
    "\n",
    "# AAT \n",
    "\n",
    "Atrans = A.T\n",
    "\n",
    "print('Part 2. The answer to \"AAT\" is: \\n{}'.format(np.matmul(A,Atrans)))\n",
    "print('')\n",
    "\n",
    "# Ab \n",
    "\n",
    "print('Part 3. The answer to \"Ab\" is: \\n{}'.format(np.matmul(A,b)))\n",
    "print('')\n",
    "\n",
    "# AbT \n",
    "\n",
    "btrans = b.T\n",
    "\n",
    "print('Part 3. There is no answer to \"AbT\" because the matrix and vector cannot be multiplied due to their dimensions')\n",
    "print('')\n",
    "\n",
    "# bA \n",
    "\n",
    "print('Part 5. There is no answer to \"bA\" because the matrix and vector cannot be multiplied due to their dimensions')\n",
    "print('')\n",
    "\n",
    "# bTA \n",
    "\n",
    "print('Part 6. The answer to \"bTA\" is: \\n{}'.format(np.matmul(btrans,A)))\n",
    "print('')\n",
    "\n",
    "# bb \n",
    "\n",
    "print('Part 7. There is no answer to \"bb\" because the vectors cannot be multiplied due to their dimensions')\n",
    "print('')\n",
    "\n",
    "# bTb \n",
    "\n",
    "print('Part 8. The answer to \"bTb\" is: \\n{}'.format(np.matmul(btrans,b)))\n",
    "print('')\n",
    "\n",
    "# bbT \n",
    "\n",
    "print('Part 9. The answer to \"bbT\" is: \\n{}'.format(np.matmul(b,btrans)))\n",
    "print('')\n",
    "\n",
    "# b+cT \n",
    "ctrans = c.T\n",
    "\n",
    "print('Part 10. There is no answer to \"b+cT\" because the vectors cannot be added due to their dimensions')\n",
    "print('')\n",
    "                                             \n",
    "# bTbT \n",
    "\n",
    "print('Part 11. There is no answer to \"bTbT\" because the vectors cannot be multiplied due to their dimensions')\n",
    "print('')\n",
    "\n",
    "# A−1b \n",
    "\n",
    "Ainv = np.linalg.inv(A)\n",
    "\n",
    "print('Part 12. The answer to \"A−1b\" is: \\n{}'.format(np.matmul(Ainv,b)))\n",
    "print('')\n",
    "\n",
    "# A∘A \n",
    "\n",
    "print('Part 13. The answer to \"A.A\" is: \\n{}'.format(A.dot(A)))\n",
    "print('')\n",
    "\n",
    "# b∘c\n",
    "\n",
    "print('Part 14. There is no answer to \"b.c\" because the vectors do not have a dot product due to their dimensions')\n"
   ]
  },
  {
   "cell_type": "markdown",
   "metadata": {},
   "source": [
    "## 6\n",
    "**Eigenvectors and eigenvalues**. Eigenvectors and eigenvalues are useful for some machine learning algorithms, but the concepts take time to solidly grasp. For an intuitive review of these concepts, explore this [interactive website at Setosa.io](http://setosa.io/ev/eigenvectors-and-eigenvalues/). Also, the series of linear algebra videos by Grant Sanderson of 3Brown1Blue are excellent and can be viewed on youtube [here](https://www.youtube.com/playlist?list=PLZHQObOWTQDPD3MizzM2xVFitgF8hE_ab).\n",
    "\n",
    "1. Calculate the eigenvalues and corresponding eigenvectors of matrix $\\mathbf{A}$ above, from the last question.\n",
    "2. Choose one of the eigenvector/eigenvalue pairs, $\\mathbf{v}$ and $\\lambda$, and show that $\\mathbf{A} \\mathbf{v} = \\lambda \\mathbf{v}$. Also show that this relationship extends to higher orders: $\\mathbf{A} \\mathbf{A} \\mathbf{v} = \\lambda^2 \\mathbf{v}$\n",
    "3. Show that the eigenvectors are orthogonal to one another (e.g. their inner product is zero). This is true for real, symmetric matrices."
   ]
  },
  {
   "cell_type": "code",
   "execution_count": 14,
   "metadata": {},
   "outputs": [
    {
     "name": "stdout",
     "output_type": "stream",
     "text": [
      "Part 1:\n",
      "\n",
      "The eigenvalues for matrix A are: \n",
      "[11.34481428 -0.51572947  0.17091519]\n",
      "\n",
      "The eigenvevtors for matrix A are: \n",
      "[[-0.32798528 -0.73697623  0.59100905]\n",
      " [-0.59100905 -0.32798528 -0.73697623]\n",
      " [-0.73697623  0.59100905  0.32798528]]\n",
      "\n",
      "Part 2:\n",
      "\n",
      "The answer to Av is: \n",
      "[-3.72093206 -6.70488789 -8.36085845]\n",
      "We can see that they are equal because...\n",
      "The answer to lambda*v is: \n",
      "[-3.72093206 -6.70488789 -8.36085845]\n",
      "\n",
      "To extend this relationship, we can prove AAv = (Lambda^2)*v\n",
      "The answer to AAv is: \n",
      "[-42.2132832  -76.06570795 -94.85238636]\n",
      "which is equal to the answer of (Lambda^2)*2 which is: \n",
      "[-42.2132832  -76.06570795 -94.85238636]\n",
      "\n",
      "Part 3:\n",
      "\n",
      "Finally, to prove the eigenvectors are orthoginal;\n",
      "\n",
      "The answer for an inner join between eigenvector 1 and eigenvector 2 is:\n",
      "-0.00\n"
     ]
    }
   ],
   "source": [
    "#**ANSWER**\n",
    "A = np.array([[1, 2, 3],\n",
    "              [2, 4, 5],\n",
    "              [3, 5, 6]]) \n",
    "\n",
    "eigvals, eigvecs = np.linalg.eig(A)\n",
    "\n",
    "print('Part 1:')\n",
    "print('')\n",
    "print('The eigenvalues for matrix A are: \\n{}'.format(eigvals))\n",
    "print('')\n",
    "print('The eigenvevtors for matrix A are: \\n{}'.format(eigvecs))\n",
    "print('')\n",
    "\n",
    "print('Part 2:')\n",
    "print('')\n",
    "\n",
    "vals_1 = eigvecs[:,0]\n",
    "vals_2 = eigvecs[:,1]\n",
    "vals_3 = eigvecs[:,2]\n",
    "vals = eigvals[0]\n",
    "\n",
    "print('The answer to Av is: \\n{}'.format(np.matmul(A,vals_1)))\n",
    "print('We can see that they are equal because...')\n",
    "print('The answer to lambda*v is: \\n{}'.format(vals*vals_1))\n",
    "print('')\n",
    "print('To extend this relationship, we can prove AAv = (Lambda^2)*v')\n",
    "print('The answer to AAv is: \\n{}'.format(np.matmul(np.matmul(A,A),vals_1)))\n",
    "print('which is equal to the answer of (Lambda^2)*2 which is: \\n{}'.format((vals*vals)*vals_1))\n",
    "print('')\n",
    "\n",
    "print('Part 3:')\n",
    "print('')\n",
    "print('Finally, to prove the eigenvectors are orthoginal;\\n')\n",
    "print('The answer for an inner join between eigenvector 1 and eigenvector 2 is:\\n{:.2f}'.format(np.inner(eigvecs[0,:],eigvecs[1,:])))"
   ]
  },
  {
   "cell_type": "markdown",
   "metadata": {},
   "source": [
    "# Numerical Programming"
   ]
  },
  {
   "cell_type": "markdown",
   "metadata": {},
   "source": [
    "## 7\n",
    "Speed comparison between vectorized and non-vectorized code. Begin by creating an array of 10 million random numbers using the numpy random.randn module. Compute the sum of the squares first in a for loop, then using Numpy's `dot` module. Time how long it takes to compute each and report the results and report the output. How many times faster is the vectorized code than the for loop approach?\n",
    "\n",
    "*Note: all code should be well commented, properly formatted, and your answers should be output using the `print()` function as follows (where the # represents your answers, to a reasonable precision):\n",
    "\n",
    "`Time [sec] (non-vectorized): ######`\n",
    "\n",
    "`Time [sec] (vectorized):     ######`\n",
    "\n",
    "`The vectorized code is ##### times faster than the vectorized code`"
   ]
  },
  {
   "cell_type": "markdown",
   "metadata": {},
   "source": [
    "**ANSWER**"
   ]
  },
  {
   "cell_type": "code",
   "execution_count": 15,
   "metadata": {},
   "outputs": [
    {
     "name": "stdout",
     "output_type": "stream",
     "text": [
      "Time [sec] (non-vectorized): 3.3500 seconds\n",
      "\n",
      "Time [sec] (vectorized): 0.0099 seconds\n",
      "\n",
      "The vectorized code is 338.7358 times faster than the non-vectorized code\n"
     ]
    }
   ],
   "source": [
    "import numpy as np\n",
    "import time\n",
    "\n",
    "# Generate the random samples\n",
    "\n",
    "randomArray = np.random.randn(10000000)\n",
    "\n",
    "# Compute the sum of squares the non-vectorized way (using a for loop)\n",
    "nonvec_time = time.time()\n",
    "\n",
    "sum = 0\n",
    "\n",
    "for i in randomArray:\n",
    "    sum += (i**2)\n",
    "    \n",
    "nonvec_time = time.time() - nonvec_time\n",
    "\n",
    "# Compute the sum of squares the vectorized way (using numpy)\n",
    "\n",
    "vec_time = time.time()\n",
    "\n",
    "np.dot(randomArray, randomArray).sum()\n",
    "\n",
    "vec_time = time.time() - vec_time\n",
    "\n",
    "# Print the results\n",
    "\n",
    "print('Time [sec] (non-vectorized): {:.4f} seconds'.format(nonvec_time))\n",
    "print('')\n",
    "print('Time [sec] (vectorized): {:.4f} seconds'.format(vec_time))\n",
    "print('')\n",
    "time_diff = nonvec_time / vec_time\n",
    "\n",
    "print('The vectorized code is {:.4f} times faster than the non-vectorized code'.format(time_diff))"
   ]
  },
  {
   "cell_type": "markdown",
   "metadata": {},
   "source": [
    "## 8\n",
    "One popular Agile development framework is Scrum (a paradigm recommended for data science projects). It emphasizes the continual evolution of code for projects, becoming progressively better, but starting with a quickly developed minimum viable product. This often means that code written early on is not optimized, and that's a good thing - it's best to get it to work first before optimizing. Imagine that you wrote the following code during a sprint towards getting an end-to-end system working. Vectorize the following code and show the difference in speed between the current implementation and a vectorized version.\n",
    "\n",
    "The function below computes the function $f(x,y) = x^2 - 2 y^2$ and determines whether this quantity is above or below a given threshold, `thresh=0`. This is done for $x,y \\in \\{-4,4\\}$, over a 2,000-by-2,000 grid covering that domain.\n",
    "\n",
    "(a) Vectorize this code and demonstrate (as in the last exercise) the speed increase through vectorization and (b) plot the resulting data - both the function $f(x,y)$ and the thresholded output - using [`imshow`](https://matplotlib.org/api/_as_gen/matplotlib.pyplot.imshow.html?highlight=matplotlib%20pyplot%20imshow#matplotlib.pyplot.imshow) from `matplotlib`.\n",
    "\n",
    "*Hint: look at the `numpy` [`meshgrid`](https://docs.scipy.org/doc/numpy-1.13.0/reference/generated/numpy.meshgrid.html) documentation*"
   ]
  },
  {
   "cell_type": "code",
   "execution_count": 84,
   "metadata": {
    "scrolled": true
   },
   "outputs": [
    {
     "name": "stdout",
     "output_type": "stream",
     "text": [
      "Time [sec] (non-vectorized): 12.75309705734253\n"
     ]
    },
    {
     "data": {
      "image/png": "[encoded data removed]",
      "text/plain": [
       "<Figure size 432x288 with 1 Axes>"
      ]
     },
     "metadata": {
      "needs_background": "light"
     },
     "output_type": "display_data"
    },
    {
     "name": "stdout",
     "output_type": "stream",
     "text": [
      "Time [sec] (vectorized): 0.16946864128112793\n"
     ]
    },
    {
     "data": {
      "image/png": "[encoded data removed]",
      "text/plain": [
       "<Figure size 432x288 with 1 Axes>"
      ]
     },
     "metadata": {
      "needs_background": "light"
     },
     "output_type": "display_data"
    },
    {
     "name": "stdout",
     "output_type": "stream",
     "text": [
      "The vectorized code is 8.237461592126193e-09 times faster than the non-vectorized code\n"
     ]
    }
   ],
   "source": [
    "import numpy as np\n",
    "import time\n",
    "import matplotlib.pyplot as plt\n",
    "\n",
    "# Initialize variables for this exerise\n",
    "\n",
    "x = np.linspace(-4, 4, 2000)\n",
    "y = np.linspace(-4, 4, 2000)\n",
    "thresh = 0\n",
    "\n",
    "# Nonvectorized implementation\n",
    "\n",
    "X,Y = np.meshgrid(x,y)\n",
    "\n",
    "z = np.zeros((2000, 2000))\n",
    "\n",
    "nonvec_time = time.time()\n",
    "\n",
    "for i in range(len(x)):\n",
    "     for j in range(len(y)):\n",
    "         z[i,j] = (X[i,j]**2)-2*(Y[i,j]**2)\n",
    "\n",
    "nonvec_time = time.time() - nonvec_time\n",
    "\n",
    "print(\"Time [sec] (non-vectorized): {}\".format(nonvec_time))\n",
    "\n",
    "# Graph the plot\n",
    "\n",
    "plt.pcolor(x,y,z)\n",
    "plt.title('Non-Vectorized')\n",
    "plt.show()\n",
    "\n",
    "# Vectorized implementation\n",
    "\n",
    "vec_time = time.time()\n",
    "X, Y = np.meshgrid(x, y)\n",
    "z = X**2 - 2*Y**2\n",
    "z = z > threshold\n",
    "vec_time = time.time() - vec_time\n",
    "\n",
    "print(\"Time [sec] (vectorized): {}\".format(vec_time))\n",
    "\n",
    "## Plot the result\n",
    "plt.pcolor(X,Y,z)\n",
    "plt.title('Vectorized')\n",
    "plt.show()\n",
    "\n",
    "# Print the time for each and the speed increase\n",
    "\n",
    "vec_time = time.time() - vec_time\n",
    "\n",
    "time_diff = nonvec_time / vec_time\n",
    "\n",
    "print('The vectorized code is {} times faster than the non-vectorized code'.format(time_diff))\n"
   ]
  },
  {
   "cell_type": "markdown",
   "metadata": {},
   "source": [
    "## 9\n",
    "This exercise will walk through some basic numerical programming exercises.\n",
    "1. Synthesize $n=10^4$ normally distributed data points with mean $\\mu=2$ and a standard deviation of $\\sigma=1$. Call these observations from a random variable $X$, and call the vector of observations that you generate, $\\textbf{x}$.\n",
    "2. Calculate the mean and standard deviation of $\\textbf{x}$ to validate (1) and provide the result to a precision of four significant figures.\n",
    "3. Plot a histogram of the data in $\\textbf{x}$ with 30 bins\n",
    "4. What is the 90th percentile of $\\textbf{x}$? The 90th percentile is the value below which 90% of observations can be found.\n",
    "5. What is the 99th percentile of $\\textbf{x}$?\n",
    "6. Now synthesize $n=10^4$ normally distributed data points with mean $\\mu=0$ and a standard deviation of $\\sigma=3$. Call these observations from a random variable $Y$, and call the vector of observations that you generate, $\\textbf{y}$.\n",
    "7. Plot the histogram of the data in $\\textbf{y}$ on a (new) plot with the histogram of $\\textbf{x}$, so that both histograms can be seen and compared.\n",
    "8. Using the observations from $\\textbf{x}$ and $\\textbf{y}$, estimate $E[XY]$"
   ]
  },
  {
   "cell_type": "markdown",
   "metadata": {},
   "source": [
    "**ANSWER**"
   ]
  },
  {
   "cell_type": "code",
   "execution_count": 55,
   "metadata": {},
   "outputs": [
    {
     "name": "stdout",
     "output_type": "stream",
     "text": [
      "Question 2.\n",
      "To prove the random variables were sythesized:\n",
      "\n",
      "The mean of the random variables is \"2.0008\"\n",
      "The standard deviation of the random variables is \"0.9956\"\n",
      "\n",
      "Question 3.\n"
     ]
    },
    {
     "data": {
      "image/png": "[encoded data removed]",
      "text/plain": [
       "<Figure size 432x288 with 1 Axes>"
      ]
     },
     "metadata": {
      "needs_background": "light"
     },
     "output_type": "display_data"
    },
    {
     "name": "stdout",
     "output_type": "stream",
     "text": [
      "Question 4.\n",
      "The 90th Percentile is \n",
      "3.2858\n",
      "\n",
      "Question 5.\n",
      "The 99th Percentile is \n",
      "4.3286\n",
      "\n",
      "Question 7.\n"
     ]
    },
    {
     "data": {
      "image/png": "[encoded data removed]",
      "text/plain": [
       "<Figure size 432x288 with 1 Axes>"
      ]
     },
     "metadata": {
      "needs_background": "light"
     },
     "output_type": "display_data"
    },
    {
     "name": "stdout",
     "output_type": "stream",
     "text": [
      "Question 8.\n",
      "The expected value of xand y is \n",
      "-0.0520\n"
     ]
    }
   ],
   "source": [
    "import matplotlib.pyplot as plt\n",
    "\n",
    "# 1\n",
    "\n",
    "x = np.random.normal(2, 1, 10**4)\n",
    "\n",
    "# 2\n",
    "\n",
    "print('Question 2.')\n",
    "print('To prove the random variables were sythesized:')\n",
    "print('')\n",
    "print('The mean of the random variables is \"{:.4f}\"'.format(np.mean(x)))\n",
    "print('The standard deviation of the random variables is \"{:.4f}\"'.format(np.std(x)))\n",
    "print('')\n",
    "\n",
    "# 3\n",
    "\n",
    "print('Question 3.')\n",
    "myhist = plt.hist(x, bins = 30)\n",
    "plt.title('Histogram with Mean of 2 and SD of 1')\n",
    "plt.show() \n",
    "\n",
    "# 4\n",
    "print('Question 4.')\n",
    "print('The 90th Percentile is \\n{:.4f}'.format(np.percentile(x, 90)))\n",
    "print('')\n",
    "\n",
    "# 5\n",
    "print('Question 5.')\n",
    "print('The 99th Percentile is \\n{:.4f}'.format(np.percentile(x, 99)))\n",
    "print('')\n",
    "\n",
    "# 6\n",
    "\n",
    "y = np.random.normal(0, 3, 10**4)\n",
    "      \n",
    "# 7\n",
    "\n",
    "print('Question 7.')\n",
    "\n",
    "xhist = plt.hist(x, bins=30)\n",
    "yhist = plt.hist(y, bins=30, alpha=0.7)\n",
    "plt.title('Comparison of Histograms')\n",
    "plt.show()      \n",
    "      \n",
    "# 8\n",
    "\n",
    "print('Question 8.')\n",
    "print('The expected value of x and y is \\n{:.4f}'.format(np.mean(x)*np.mean(y)))      "
   ]
  },
  {
   "cell_type": "markdown",
   "metadata": {},
   "source": [
    "## 10\n",
    "Estimate the integral of the function $f(x)$ on the interval $0\\leq x < 2.5$ assuming we only know the following points from $f$:\n",
    "\n",
    "*Table 1. Dataset containing n=5 observations*\n",
    "\n",
    "| $x_i$ | 0.0 | 0.5 | 1.0 | 1.5 | 2.0 |\n",
    "|-|-|-|-|-|-|\n",
    "| $y_i$ | 6 | 7 | 8 | 4 | 1 |\n"
   ]
  },
  {
   "cell_type": "markdown",
   "metadata": {},
   "source": [
    "**ANSWER**\n",
    "\n",
    "$\\int_{0}^{2} f(x) dx = (\\frac{1}{2}*6) + (\\frac{1}{2}*7) + (\\frac{1}{2}*8) + (\\frac{1}{2}*4) + (\\frac{1}{2}*1)$\n",
    "\n",
    "$\\int_{0}^{2} f(x) dx = 3 + 3.5 + 4 + 2 + 0.5$\n",
    "\n",
    "$\\int_{0}^{2} f(x) dx = 11.25$"
   ]
  },
  {
   "cell_type": "markdown",
   "metadata": {
    "collapsed": true
   },
   "source": [
    "# Version Control via Git"
   ]
  },
  {
   "cell_type": "markdown",
   "metadata": {},
   "source": [
    "## 11\n",
    "Complete the [Atlassian Git tutorial](https://www.atlassian.com/git/tutorials/what-is-version-control), specifically the following sections. Try each concept that's presented. For this tutorial, instead of using BitBucket, use Github. Create a github account here if you don't already have one: https://github.com/\n",
    "1. [What is version control](https://www.atlassian.com/git/tutorials/what-is-version-control)\n",
    "2. [What is Git](https://www.atlassian.com/git/tutorials/what-is-git)\n",
    "3. [Install Git](https://www.atlassian.com/git/tutorials/install-git)\n",
    "4. [Setting up a repository](https://www.atlassian.com/git/tutorials/install-git)\n",
    "5. [Saving changes](https://www.atlassian.com/git/tutorials/saving-changes)\n",
    "6. [Inspecting a repository](https://www.atlassian.com/git/tutorials/inspecting-a-repository)\n",
    "7. [Undoing changes](https://www.atlassian.com/git/tutorials/undoing-changes)\n",
    "8. [Rewriting history](https://www.atlassian.com/git/tutorials/rewriting-history)\n",
    "9. [Syncing](https://www.atlassian.com/git/tutorials/syncing)\n",
    "10. [Making a pull request](https://www.atlassian.com/git/tutorials/making-a-pull-request)\n",
    "11. [Using branches](https://www.atlassian.com/git/tutorials/using-branches)\n",
    "12. [Comparing workflows](https://www.atlassian.com/git/tutorials/comparing-workflows)\n",
    "\n",
    "For your answer, affirm that you either completed the tutorial or have previous experience with all of the concepts above. Do this by typing your name below and selecting the situation that applies from the two options in brackets."
   ]
  },
  {
   "cell_type": "markdown",
   "metadata": {},
   "source": [
    "**ANSWER**\n",
    "\n",
    "*I, [**Joe Littell**], affirm that I have [**completed the above tutorial**]*"
   ]
  },
  {
   "cell_type": "markdown",
   "metadata": {},
   "source": [
    "## 12\n",
    "Using Github to create a static HTML website:\n",
    "1. Create a branch in your `machine-learning-course` repo called \"gh-pages\" and checkout that branch (this will provide an example of how to create a simple static website using [Github Pages](https://pages.github.com/))\n",
    "2. Create a file called \"index.html\" with the contents \"Hello World\" and add, commit, and push it to that branch.\n",
    "3. Submit the following: (a) a link to your github repository and (b) a link to your new \"Hello World\" website. The latter should be at the address https://[USERNAME].github.io/ECE590-assignment0 (where [USERNAME] is your github username)."
   ]
  },
  {
   "cell_type": "markdown",
   "metadata": {},
   "source": [
    "**ANSWER**\n",
    "\n",
    "https://joelittell.github.io/machine-learning-course/"
   ]
  },
  {
   "cell_type": "markdown",
   "metadata": {
    "collapsed": true
   },
   "source": [
    "# Exploratory Data Analysis\n",
    "## 13\n",
    "Here you'll bring together some of the individual skills that you demonstrated above and create a Jupyter notebook based blog post on data analysis.\n",
    "\n",
    "1. Find a dataset that interests you and relates to a question or problem that you find intriguing\n",
    "2. Using a Jupyter notebook, describe the dataset, the source of the data, and the reason the dataset was of interest.\n",
    "3. Check the data and see if they need to be cleaned: are there missing values? Are there clearly erroneous values? Do two tables need to be merged together? Clean the data so it can be visualized.\n",
    "3. Plot the data, demonstrating interesting features that you discover. Are there any relationships between variables that were surprising or patterns that emerged? Please exercise creativity and curiosity in your plots.\n",
    "4. What insights are you able to take away from exploring the data? Is there a reason why analyzing the dataset you chose is particularly interesting or important? Summarize this as if your target audience was the readership of a major news organization - boil down your findings in a way that is accessible, but still accurate.\n",
    "5. Create a public repository on your github account titled \"machine-learning-course\". In it, create a readme file that contains the heading \"ECE590: Introductory Machine Learning for Data Science\". Add, commit, and push that Jupyter notebook to the master branch. Provide the link to the that post here."
   ]
  },
  {
   "cell_type": "markdown",
   "metadata": {},
   "source": [
    "**ANSWER**\n",
    "\n"
   ]
  }
 ],
 "metadata": {
  "kernelspec": {
   "display_name": "Python 3",
   "language": "python",
   "name": "python3"
  },
  "language_info": {
   "codemirror_mode": {
    "name": "ipython",
    "version": 3
   },
   "file_extension": ".py",
   "mimetype": "text/x-python",
   "name": "python",
   "nbconvert_exporter": "python",
   "pygments_lexer": "ipython3",
   "version": "3.7.0"
  }
 },
 "nbformat": 4,
 "nbformat_minor": 2
}
