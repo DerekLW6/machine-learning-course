{
 "cells": [
  {
   "cell_type": "markdown",
   "metadata": {},
   "source": [
    "# Terrorism in the United States\n",
    "\n",
    "Terrorism has been in the forefront of American News Media and U.S. Foreign policy for the greater part of the last two decades. The events of September 11th, 2001 vastly changed the landscape of how our country operates on a grand scale. \n",
    "This EDA looks to identify trends and patterns amongst attacks and lethality of those attacks utilizing University of Maryland’s Global Terrorism Database. "
   ]
  },
  {
   "cell_type": "markdown",
   "metadata": {},
   "source": [
    "## Introduction\n",
    "   \n",
    "   Terrorism is not a new concept in our society. Since its inception, the United States has been entangled with acts of Terrorism. The very inception of the country could be argued as an act of terrorism by American Colonialist against the British Crown. The Boston Tea Party, one of the most important events in America history and mythos, looked to change how taxation worked in the colonies through the destruction of property. Given the current U.S. Code of Federal Regulations definition, terrorism is;\n",
    "   \n",
    "    \"…the unlawful use of force and violence against persons or property to intimidate or coerce a government, the civilian population, or any segment thereof, in furtherance of political or social objectives\" (28 C.F.R. Section 0.85).  \n",
    "   Many acts conducted by the American Colonialist during the American Revolution would fall under the clichéd saying of “One man’s terrorist is another’s freedom fighter.” If their acts of rebellion had failed, they most likely would have been hung for Treason.\n",
    "   \n",
    "   Although today, terrorism in the United States generally focuses on International Jihadi groups, both cognitively and monetarily, numerous movements have been active and wide reaching. Independence movements in the Caribbean, Left Wing movements of 1960s and 1970s, Right Wing movements of the 1980s, 1990s, and 2000s, and a long, torrid history of racism and anti-Semitism have all left scars on our national fabric. A number of other movements have been in direct response to terrorist attacks, such as attacks against innocent Americans of Muslim faith as a way for retaliation and retribution to Jihadism. \n",
    "   \n",
    "   As such, given UMD’s Global Terrorism Database, analysis of events and their severity gives us a base to better identify growing threats in order to better specify the allocation of resources for the safety of our populace.\n"
   ]
  },
  {
   "cell_type": "markdown",
   "metadata": {},
   "source": [
    "## Dataset\n",
    "\n",
    "   UMD START’s Global Terrorism Database is the leading open source terrorism database in the world, with over 180,000 entries from reputable open media sources ranging from January 1, 1970 to December 31, 2016. The dataset categorizes entries both chronologically as well as by location. All entries retain a myriad of information from basic summaries of events, number of wounded and killed, split by U.S. citizenship, weapons used, target types, and methods used. \n",
    "    \n",
    "   In order to simplify the dataset, this paper only uses events which occurred in the United States, to include all 50 states as well as the unincorporated territory of Puerto Rico. Two additional qualifiers have been added to distinguish the ideology of the group who perpetrated the attack (whether right wing, left wing, nationalist, racial supremacy, ecoterrorism, or anti-religious.), as well as a categorization of the type of racial supremacist group (white, black, or Jewish).\n",
    "    \n",
    "   Finally, the dataset is missing information pertaining to the year 1993. This is due to the dataset that GTD was built off of being initially hardcopy index cards, which were lost when converting to a digital format."
   ]
  },
  {
   "cell_type": "code",
   "execution_count": 41,
   "metadata": {},
   "outputs": [],
   "source": [
    "import numpy as np\n",
    "import pandas as pd\n",
    "import matplotlib.pyplot as plt\n",
    "\n",
    "# Read in the file for use.\n",
    "file = \"C:/Users/josep/Documents/Python Scripts/US Terrorism.csv\"\n",
    "\n",
    "terror = pd.read_csv(file, sep=',', encoding='latin-1')"
   ]
  },
  {
   "cell_type": "code",
   "execution_count": 39,
   "metadata": {},
   "outputs": [
    {
     "data": {
      "text/html": [
       "<div>\n",
       "<style scoped>\n",
       "    .dataframe tbody tr th:only-of-type {\n",
       "        vertical-align: middle;\n",
       "    }\n",
       "\n",
       "    .dataframe tbody tr th {\n",
       "        vertical-align: top;\n",
       "    }\n",
       "\n",
       "    .dataframe thead th {\n",
       "        text-align: right;\n",
       "    }\n",
       "</style>\n",
       "<table border=\"1\" class=\"dataframe\">\n",
       "  <thead>\n",
       "    <tr style=\"text-align: right;\">\n",
       "      <th></th>\n",
       "      <th>iyear</th>\n",
       "      <th>imonth</th>\n",
       "      <th>iday</th>\n",
       "      <th>country_txt</th>\n",
       "      <th>provstate</th>\n",
       "      <th>city</th>\n",
       "      <th>latitude</th>\n",
       "      <th>longitude</th>\n",
       "      <th>location</th>\n",
       "      <th>success</th>\n",
       "      <th>...</th>\n",
       "      <th>nwound</th>\n",
       "      <th>nwoundus</th>\n",
       "      <th>nwoundte</th>\n",
       "      <th>property</th>\n",
       "      <th>propextent</th>\n",
       "      <th>propextent_txt</th>\n",
       "      <th>propvalue</th>\n",
       "      <th>propcomment</th>\n",
       "      <th>ransom</th>\n",
       "      <th>ransomamt</th>\n",
       "    </tr>\n",
       "  </thead>\n",
       "  <tbody>\n",
       "    <tr>\n",
       "      <th>0</th>\n",
       "      <td>1995</td>\n",
       "      <td>2</td>\n",
       "      <td>28</td>\n",
       "      <td>United States</td>\n",
       "      <td>California</td>\n",
       "      <td>San Francisco</td>\n",
       "      <td>37.777125</td>\n",
       "      <td>-122.419644</td>\n",
       "      <td>NaN</td>\n",
       "      <td>1</td>\n",
       "      <td>...</td>\n",
       "      <td>0.0</td>\n",
       "      <td>NaN</td>\n",
       "      <td>NaN</td>\n",
       "      <td>1</td>\n",
       "      <td>NaN</td>\n",
       "      <td>NaN</td>\n",
       "      <td>NaN</td>\n",
       "      <td>NaN</td>\n",
       "      <td>0.0</td>\n",
       "      <td>NaN</td>\n",
       "    </tr>\n",
       "    <tr>\n",
       "      <th>1</th>\n",
       "      <td>1970</td>\n",
       "      <td>4</td>\n",
       "      <td>13</td>\n",
       "      <td>United States</td>\n",
       "      <td>Missouri</td>\n",
       "      <td>Kansas City</td>\n",
       "      <td>39.102960</td>\n",
       "      <td>-94.583062</td>\n",
       "      <td>NaN</td>\n",
       "      <td>1</td>\n",
       "      <td>...</td>\n",
       "      <td>0.0</td>\n",
       "      <td>0.0</td>\n",
       "      <td>0.0</td>\n",
       "      <td>1</td>\n",
       "      <td>3.0</td>\n",
       "      <td>Minor (likely &lt; $1 million)</td>\n",
       "      <td>NaN</td>\n",
       "      <td>Natural gas regulator of Church was destroyed....</td>\n",
       "      <td>0.0</td>\n",
       "      <td>NaN</td>\n",
       "    </tr>\n",
       "    <tr>\n",
       "      <th>2</th>\n",
       "      <td>1971</td>\n",
       "      <td>3</td>\n",
       "      <td>6</td>\n",
       "      <td>United States</td>\n",
       "      <td>Texas</td>\n",
       "      <td>Texarkana</td>\n",
       "      <td>33.425580</td>\n",
       "      <td>-94.048254</td>\n",
       "      <td>The incident occurred at New Town Church.</td>\n",
       "      <td>1</td>\n",
       "      <td>...</td>\n",
       "      <td>0.0</td>\n",
       "      <td>0.0</td>\n",
       "      <td>0.0</td>\n",
       "      <td>1</td>\n",
       "      <td>3.0</td>\n",
       "      <td>Minor (likely &lt; $1 million)</td>\n",
       "      <td>200000.0</td>\n",
       "      <td>The church was destroyed.</td>\n",
       "      <td>0.0</td>\n",
       "      <td>NaN</td>\n",
       "    </tr>\n",
       "    <tr>\n",
       "      <th>3</th>\n",
       "      <td>1971</td>\n",
       "      <td>3</td>\n",
       "      <td>6</td>\n",
       "      <td>United States</td>\n",
       "      <td>Texas</td>\n",
       "      <td>Texarkana</td>\n",
       "      <td>33.425580</td>\n",
       "      <td>-94.048254</td>\n",
       "      <td>The incident occurred at New Town Church.</td>\n",
       "      <td>1</td>\n",
       "      <td>...</td>\n",
       "      <td>0.0</td>\n",
       "      <td>0.0</td>\n",
       "      <td>0.0</td>\n",
       "      <td>1</td>\n",
       "      <td>3.0</td>\n",
       "      <td>Minor (likely &lt; $1 million)</td>\n",
       "      <td>175000.0</td>\n",
       "      <td>The church was destroyed.</td>\n",
       "      <td>0.0</td>\n",
       "      <td>NaN</td>\n",
       "    </tr>\n",
       "    <tr>\n",
       "      <th>4</th>\n",
       "      <td>1971</td>\n",
       "      <td>3</td>\n",
       "      <td>7</td>\n",
       "      <td>United States</td>\n",
       "      <td>Texas</td>\n",
       "      <td>Texarkana</td>\n",
       "      <td>33.425580</td>\n",
       "      <td>-94.048254</td>\n",
       "      <td>The incident occurred at New Town Church.</td>\n",
       "      <td>0</td>\n",
       "      <td>...</td>\n",
       "      <td>0.0</td>\n",
       "      <td>0.0</td>\n",
       "      <td>0.0</td>\n",
       "      <td>0</td>\n",
       "      <td>NaN</td>\n",
       "      <td>NaN</td>\n",
       "      <td>NaN</td>\n",
       "      <td>NaN</td>\n",
       "      <td>0.0</td>\n",
       "      <td>NaN</td>\n",
       "    </tr>\n",
       "  </tbody>\n",
       "</table>\n",
       "<p>5 rows × 40 columns</p>\n",
       "</div>"
      ],
      "text/plain": [
       "   iyear  imonth  iday    country_txt   provstate           city   latitude  \\\n",
       "0   1995       2    28  United States  California  San Francisco  37.777125   \n",
       "1   1970       4    13  United States    Missouri    Kansas City  39.102960   \n",
       "2   1971       3     6  United States       Texas      Texarkana  33.425580   \n",
       "3   1971       3     6  United States       Texas      Texarkana  33.425580   \n",
       "4   1971       3     7  United States       Texas      Texarkana  33.425580   \n",
       "\n",
       "    longitude                                   location  success    ...      \\\n",
       "0 -122.419644                                        NaN        1    ...       \n",
       "1  -94.583062                                        NaN        1    ...       \n",
       "2  -94.048254  The incident occurred at New Town Church.        1    ...       \n",
       "3  -94.048254  The incident occurred at New Town Church.        1    ...       \n",
       "4  -94.048254  The incident occurred at New Town Church.        0    ...       \n",
       "\n",
       "   nwound  nwoundus nwoundte  property propextent  \\\n",
       "0     0.0       NaN      NaN         1        NaN   \n",
       "1     0.0       0.0      0.0         1        3.0   \n",
       "2     0.0       0.0      0.0         1        3.0   \n",
       "3     0.0       0.0      0.0         1        3.0   \n",
       "4     0.0       0.0      0.0         0        NaN   \n",
       "\n",
       "                propextent_txt propvalue  \\\n",
       "0                          NaN       NaN   \n",
       "1  Minor (likely < $1 million)       NaN   \n",
       "2  Minor (likely < $1 million)  200000.0   \n",
       "3  Minor (likely < $1 million)  175000.0   \n",
       "4                          NaN       NaN   \n",
       "\n",
       "                                         propcomment ransom  ransomamt  \n",
       "0                                                NaN    0.0        NaN  \n",
       "1  Natural gas regulator of Church was destroyed....    0.0        NaN  \n",
       "2                          The church was destroyed.    0.0        NaN  \n",
       "3                          The church was destroyed.    0.0        NaN  \n",
       "4                                                NaN    0.0        NaN  \n",
       "\n",
       "[5 rows x 40 columns]"
      ]
     },
     "execution_count": 39,
     "metadata": {},
     "output_type": "execute_result"
    }
   ],
   "source": [
    "terror.head()"
   ]
  },
  {
   "cell_type": "markdown",
   "metadata": {},
   "source": [
    "## Analysis\n",
    "\n",
    "The first thing to look at is the number of attacks over the years to identify trends. "
   ]
  },
  {
   "cell_type": "code",
   "execution_count": 118,
   "metadata": {},
   "outputs": [
    {
     "data": {
      "image/png": "[encoded data removed]",
      "text/plain": [
       "<Figure size 432x288 with 1 Axes>"
      ]
     },
     "metadata": {
      "needs_background": "light"
     },
     "output_type": "display_data"
    }
   ],
   "source": [
    "# Count the number of instances of terrorist attacks per year since 1970\n",
    "terror_per_year = terror.groupby('iyear').iyear.count()\n",
    "\n",
    "plt.plot(terror_per_year)\n",
    "plt.xlabel('Year', fontsize = 12)\n",
    "plt.ylabel('Number of Attacks', fontsize = 12)\n",
    "plt.title('U.S. Terror attacks (1970-2016)', fontsize = 20)\n",
    "plt.show()\n"
   ]
  },
  {
   "cell_type": "markdown",
   "metadata": {},
   "source": [
    "Clearly, over time we can see that the number of attacks have been generally decreasing since 1970. This is most likely due to the large political strife occuring as a response to the Vientnam War. As such, as the war drew down, so did much of the acts of violence. \n",
    "\n",
    "Enterestingly enough, very little laws were put in place against terrorism until the mid 90s, depsite the large amount of attacks in the 1970s. If we look at a plot of deaths per year, we notice why this might be the case."
   ]
  },
  {
   "cell_type": "code",
   "execution_count": 142,
   "metadata": {},
   "outputs": [
    {
     "data": {
      "image/png": "[encoded data removed]",
      "text/plain": [
       "<Figure size 432x288 with 1 Axes>"
      ]
     },
     "metadata": {
      "needs_background": "light"
     },
     "output_type": "display_data"
    },
    {
     "data": {
      "text/plain": [
       "Text(0.5,1,'U.S. Deaths from Terror attacks (2002-2016)')"
      ]
     },
     "execution_count": 142,
     "metadata": {},
     "output_type": "execute_result"
    },
    {
     "data": {
      "image/png": "[encoded data removed]",
      "text/plain": [
       "<Figure size 432x288 with 1 Axes>"
      ]
     },
     "metadata": {
      "needs_background": "light"
     },
     "output_type": "display_data"
    }
   ],
   "source": [
    "# Count the number of deaths of terrorist attacks per year since 1970\n",
    "deaths_per_year = terror.groupby('iyear').nkill.sum()\n",
    "\n",
    "plt.plot(deaths_per_year)\n",
    "plt.xlabel('Year', fontsize = 12)\n",
    "plt.ylabel('Number of Deaths', fontsize = 12)\n",
    "plt.title('U.S. Deaths from Terror attacks (1970-2016)', fontsize = 20)\n",
    "plt.show()\n",
    "\n",
    "# Count the number of deaths of terrorist attacks per year since 1970\n",
    "deaths_2001_on = terror.iyear > 2001\n",
    "deaths_2001_on = terror.groupby('iyear').nkill.sum()\n",
    "\n",
    "plt.plot(deaths_2001_on)\n",
    "plt.xlabel('Year', fontsize = 12)\n",
    "plt.ylabel('Number of Deaths', fontsize = 12)\n",
    "plt.title('U.S. Deaths from Terror attacks (2002-2016)', fontsize = 20)\n"
   ]
  },
  {
   "cell_type": "markdown",
   "metadata": {},
   "source": [
    "Despite the large number of attacks, very few people were killed through the entirety of the 1970s and 1980s. Much of the terrorism was perpatrated by left wing groups or eco terrorist typically looking to make a point without hurting other individuals. \n",
    "\n",
    "Very noticable are the events of the Oklahoma City Bombing and the attacks on September 11th, 2001. They stand out far and away comparitively to the rest of the years. These two events, due to their extreme severity, caused numerous laws seemingly to protect Americans from further terrorist events. \n",
    "\n",
    "If we take a look at post September 11th, we will observe that although initially the number of attacks and number of fatalities is decreasing, around 2012 we notice an uptick in violence. To delve more into why, we need to take a look at what ideologies are commiting these attacks."
   ]
  },
  {
   "cell_type": "code",
   "execution_count": null,
   "metadata": {},
   "outputs": [],
   "source": []
  }
 ],
 "metadata": {
  "kernelspec": {
   "display_name": "Python 3",
   "language": "python",
   "name": "python3"
  },
  "language_info": {
   "codemirror_mode": {
    "name": "ipython",
    "version": 3
   },
   "file_extension": ".py",
   "mimetype": "text/x-python",
   "name": "python",
   "nbconvert_exporter": "python",
   "pygments_lexer": "ipython3",
   "version": "3.7.0"
  }
 },
 "nbformat": 4,
 "nbformat_minor": 2
}
